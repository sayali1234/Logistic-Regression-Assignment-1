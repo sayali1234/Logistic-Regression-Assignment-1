{
 "cells": [
  {
   "cell_type": "markdown",
   "id": "e4cc5994-5c1c-405b-a709-bca84774f8e7",
   "metadata": {},
   "source": [
    "Q1) Explain the difference between linear regression and logistic regression models. Provide an example of\n",
    "a scenario where logistic regression would be more appropriate."
   ]
  },
  {
   "cell_type": "code",
   "execution_count": null,
   "id": "d73fafc4-6cc7-4c27-b27e-6570912099f2",
   "metadata": {},
   "outputs": [],
   "source": [
    "Linear regression and logistic regression are two common types of regression models in statistics and machine learning. \n",
    "Linear regression is used to model the relationship between a continuous dependent variable and one or more independent\n",
    "variables, while logistic regression is used to model the probability of a binary outcome based on one or more independent\n",
    "variables.\n",
    "\n",
    "In linear regression, the goal is to find the best line that fits the data points in a way that minimizes the sum of \n",
    "squared differences between the predicted values and the actual values. The output of a linear regression model is a\n",
    "continuous variable that can take any value within a range. For example, if we are predicting house prices based on the \n",
    "number of bedrooms, the output of the linear regression model could be any value greater than or equal to zero.\n",
    "\n",
    "In logistic regression, the goal is to model the probability of a binary outcome (i.e., 0 or 1) based on one or more\n",
    "independent variables. The output of a logistic regression model is a probability value between 0 and 1, which represents\n",
    "the likelihood of the binary outcome occurring. For example, if we are predicting whether a customer will buy a product\n",
    "based on their age, the output of the logistic regression model could be a probability value between 0 and 1.\n",
    "\n",
    "Logistic regression would be more appropriate than linear regression in scenarios where the dependent variable is binary \n",
    "or categorical. For example, if we are trying to predict whether a customer will churn (i.e., stop using a product or \n",
    "service) based on their demographics and usage patterns, logistic regression would be a more appropriate model than linear\n",
    "regression. In this case, the output of the logistic regression model would be a probability value representing the \n",
    "likelihood of churn, rather than a continuous variable like house prices. The probability value could then be used to \n",
    "make decisions, such as whether to offer the customer a retention incentive.\n",
    "\n",
    "                 Linear Regression\t                                      Logistic Regression\n",
    "Used to model the relationship between a continuous dependent     Used to model the probability of a binary outcome based \n",
    "variable and one or more independent variables\t                  on one or more independent variables\n",
    "\n",
    "The output is a continuous variable that can take any value       The output is a probability value between 0 and 1, which\n",
    "within a range\t                                                  represents the likelihood of the binary outcome\n",
    "                                                                  occurring\n",
    "\n",
    "Used when the dependent variable is continuous\t                  Used when the dependent variable is binary or\n",
    "                                                                  categorical\n",
    "\n",
    "Example scenario: Predicting house prices based on the number     Example scenario: Predicting whether a costumer will \n",
    "of bedrooms                                                       churn based on their demographics and usage patterns\n",
    "\n",
    "The goal is to find the best line that fits the data points in    The goal is to model the probability of a binary outcome\n",
    "a way that minimizes the sum of squared differences between the   by finding the coefficients that maximize the likelihood \n",
    "predicted values and the actual values\t                          of the observed data"
   ]
  },
  {
   "cell_type": "markdown",
   "id": "5c02275e-2a21-4a8c-801e-da689bbac4dd",
   "metadata": {},
   "source": [
    "Q2) What is the cost function used in logistic regression, and how is it optimized?"
   ]
  },
  {
   "cell_type": "code",
   "execution_count": null,
   "id": "9225d97c-59d3-4f24-9a7e-510924fe83e6",
   "metadata": {},
   "outputs": [],
   "source": [
    "In logistic regression, the cost function is called the \"logistic loss\" or \"cross-entropy loss\" function. It measures the\n",
    "difference between the predicted probability values and the actual binary labels for the training data.\n",
    "\n",
    "The logistic cost function is defined as follows:\n",
    "    Cost(hθ(x),y)= −ylog(hθ(x))−(1−y)log(1−hθ(x))\n",
    "    \n",
    "The goal of logistic regression is to find the values of the coefficients (i.e., the parameters) that minimize the \n",
    "logistic loss function. This is typically done using an optimization algorithm called gradient descent. Gradient descent\n",
    "iteratively updates the parameter values in the direction of steepest descent, moving towards the minimum of the cost\n",
    "function. The steps of gradient descent are as follows:\n",
    "    \n",
    "1.Initialize the coefficients to some values.\n",
    "\n",
    "2.Calculate the predicted probabilities for the training data using the current coefficients.\n",
    "\n",
    "3.Calculate the gradient of the cost function with respect to each coefficient.\n",
    "\n",
    "4.Update each coefficient by subtracting a fraction (the learning rate) of the gradient from its current value.\n",
    "\n",
    "5.Repeat steps 2-4 until convergence (i.e., until the cost function stops decreasing or a maximum number of iterations is\n",
    "                                      reached).\n",
    "\n",
    "There are also other optimization algorithms that can be used to optimize the logistic loss function, such as Newton's\n",
    "method and quasi-Newton methods. However, gradient descent is the most commonly used method due to its simplicity and\n",
    "efficiency.    "
   ]
  },
  {
   "cell_type": "markdown",
   "id": "8ed4f1bc-f5ef-4f21-ba95-637d89e6cdc4",
   "metadata": {},
   "source": [
    "Q3) Explain the concept of regularization in logistic regression and how it helps prevent overfitting."
   ]
  },
  {
   "cell_type": "code",
   "execution_count": null,
   "id": "0883a3bc-6da1-43ed-822f-dec1b23b8d18",
   "metadata": {},
   "outputs": [],
   "source": [
    "Regularization is a technique used to prevent overfitting in machine learning models, including logistic regression.\n",
    "Overfitting occurs when a model learns the noise in the training data and is unable to generalize to new, unseen data. \n",
    "This can happen when the model has too many parameters, which allows it to fit the training data very closely but makes it\n",
    "less likely to generalize well.\n",
    "\n",
    "There are two common types of regularization used in logistic regression: L1 and L2 regularization. L1 regularization,\n",
    "also known as Lasso regularization, adds a penalty term to the logistic regression cost function that is proportional to\n",
    "the absolute value of the model's coefficients. This penalty encourages the model to have fewer non-zero coefficients,\n",
    "effectively performing feature selection and reducing the complexity of the model.\n",
    "\n",
    "L2 regularization, also known as Ridge regularization, adds a penalty term to the logistic regression cost function that \n",
    "is proportional to the square of the model's coefficients. This penalty encourages the model to have smaller coefficients\n",
    "overall, effectively reducing the magnitude of the coefficients and smoothing the decision boundary.\n",
    "\n",
    "Both L1 and L2 regularization help prevent overfitting by discouraging the model from becoming too complex and fitting \n",
    "the noise in the training data. By adding a penalty to the cost function, the model is encouraged to prioritize simpler \n",
    "solutions that generalize better to new, unseen data.\n",
    "\n",
    "Overall, regularization is a powerful tool that can be used to improve the performance of logistic regression models and\n",
    "prevent overfitting."
   ]
  },
  {
   "cell_type": "markdown",
   "id": "396870a4-efc1-4c57-af29-407554bad394",
   "metadata": {},
   "source": [
    "Q4) What is the ROC curve, and how is it used to evaluate the performance of the logistic regression\n",
    "model?"
   ]
  },
  {
   "cell_type": "code",
   "execution_count": null,
   "id": "cc8dd1e8-7ed4-4020-ac95-6ba907c64d06",
   "metadata": {},
   "outputs": [],
   "source": [
    "The ROC (Receiver Operating Characteristic) curve is a graphical representation of the performance of a binary \n",
    "classification model, such as logistic regression. It is created by plotting the true positive rate (TPR) on the y-axis\n",
    "and the false positive rate (FPR) on the x-axis, at various threshold settings.\n",
    "\n",
    "The TPR is the proportion of positive cases that are correctly classified as positive by the model, while the FPR is the\n",
    "proportion of negative cases that are incorrectly classified as positive by the model. By varying the threshold at which\n",
    "we classify a case as positive or negative, we can generate a range of TPR and FPR values and plot them on the ROC curve.\n",
    "\n",
    "A perfect classifier would have a TPR of 1 and an FPR of 0, resulting in a point at the top left corner of the ROC curve.\n",
    "A random classifier, on the other hand, would have a diagonal line from the bottom left corner to the top right corner, \n",
    "indicating that the TPR and FPR are equal at all thresholds.\n",
    "\n",
    "In general, a better classifier will have a ROC curve that is closer to the top left corner of the plot. We can quantify \n",
    "the overall performance of the model by calculating the area under the curve (AUC) of the ROC curve. A perfect classifier\n",
    "will have an AUC of 1, while a random classifier will have an AUC of 0.5.\n",
    "\n",
    "The ROC curve and AUC are useful tools for evaluating the performance of a logistic regression model because they provide\n",
    "a way to compare different models and to visualize the trade-off between sensitivity (TPR) and specificity (1 - FPR) at \n",
    "different thresholds. The ROC curve is also robust to imbalanced classes, unlike other evaluation metrics such as \n",
    "accuracy, which can be misleading in the presence of class imbalance.\n",
    "\n",
    "Below is example in python showing ROC curve and ROC_AUC Score :"
   ]
  },
  {
   "cell_type": "code",
   "execution_count": 1,
   "id": "d6944e01-e878-4ccf-a8af-0e0ed11d5b31",
   "metadata": {},
   "outputs": [
    {
     "name": "stdout",
     "output_type": "stream",
     "text": [
      "ROC AUC Score : 0.9253\n",
      "\n",
      "===================================================================\n",
      "\n"
     ]
    },
    {
     "data": {
      "image/png": "[encoded data removed]",
      "text/plain": [
       "<Figure size 640x480 with 1 Axes>"
      ]
     },
     "metadata": {},
     "output_type": "display_data"
    }
   ],
   "source": [
    "from sklearn.datasets import make_classification\n",
    "from sklearn.linear_model import LogisticRegression\n",
    "from sklearn.metrics import roc_curve, roc_auc_score\n",
    "import matplotlib.pyplot as plt\n",
    "\n",
    "# Generate synthetic binary classification dataset\n",
    "X, y = make_classification(n_samples=1000, n_classes=2, weights=[0.9, 0.1], random_state=42)\n",
    "\n",
    "# Fit logistic regression model\n",
    "clf = LogisticRegression()\n",
    "clf.fit(X, y)\n",
    "\n",
    "# Predict probabilities for test set\n",
    "probs = clf.predict_proba(X)[:, 1]\n",
    "\n",
    "# Calculate false positive rate, true positive rate, and thresholds\n",
    "fpr, tpr, thresholds = roc_curve(y, probs)\n",
    "\n",
    "# Calculate AUC\n",
    "auc = roc_auc_score(y, probs)\n",
    "print('ROC AUC Score : %.4f' % auc)\n",
    "\n",
    "print('\\n===================================================================\\n')\n",
    "\n",
    "# Plot ROC curve\n",
    "plt.plot(fpr, tpr,label=f\"ROC AUC Score : {auc:.4f}\")\n",
    "plt.xlabel('False Positive Rate')\n",
    "plt.ylabel('True Positive Rate')\n",
    "plt.title('ROC Curve')\n",
    "plt.legend()\n",
    "plt.show()"
   ]
  },
  {
   "cell_type": "markdown",
   "id": "d444c417-7612-488e-8513-836e0e61d804",
   "metadata": {},
   "source": [
    "Q5) What are some common techniques for feature selection in logistic regression? How do these\n",
    "techniques help improve the model's performance?"
   ]
  },
  {
   "cell_type": "code",
   "execution_count": null,
   "id": "675988c5-2468-47d4-ade9-ec45aaef08ce",
   "metadata": {},
   "outputs": [],
   "source": [
    "Feature selection is the process of selecting a subset of relevant features (or variables) from the original set of\n",
    "features to use in a model. In logistic regression, feature selection techniques can help to improve the model's\n",
    "performance by reducing the number of irrelevant or redundant features, thereby reducing overfitting and increasing\n",
    "interpretability.\n",
    "\n",
    "Here are some common techniques for feature selection in logistic regression:\n",
    "    \n",
    "1.Univariate feature selection: This method evaluates each feature individually to determine its relationship with the \n",
    "target variable. It uses statistical tests such as chi-squared test, ANOVA, or correlation coefficient to rank the features\n",
    "based on their p-values or correlation strength. The top k features with the highest scores are selected for the model.\n",
    "\n",
    "2.Recursive feature elimination (RFE): This method uses an iterative process to remove features from the model one by one\n",
    "based on their importance scores. The importance score can be derived from the coefficients of the logistic regression \n",
    "model or from external methods such as random forests. RFE continues to remove features until the optimal number of \n",
    "features is reached.\n",
    "\n",
    "3.Lasso regularization: This method adds a penalty term to the logistic regression objective function that shrinks the \n",
    "coefficients of some features to zero, effectively removing them from the model. The strength of the penalty is \n",
    "controlled by a hyperparameter called the regularization strength. This method can select a sparse set of features that\n",
    "are most relevant to the target variable.\n",
    "\n",
    "4.Principal component analysis (PCA): This method transforms the original features into a new set of linearly uncorrelated \n",
    "variables called principal components. These components are sorted in descending order of explained variance, and the top\n",
    "k components are selected for the model. This method can help to reduce multicollinearity and simplify the model.\n",
    "\n",
    "5.Forward selection/backward elimination: These methods are stepwise selection algorithms that iteratively add or remove\n",
    "features from the model based on their contribution to the model's performance. Forward selection starts with an empty \n",
    "model and adds the best feature at each step until a stopping criterion is reached. Backward elimination starts with the\n",
    "full model and removes the least important feature at each step until a stopping criterion is reached.\n",
    "\n",
    "These feature selection techniques help to improve the performance of logistic regression models by reducing the number\n",
    "of irrelevant or redundant features, which can lead to overfitting, improve interpretability, and simplify the model. By \n",
    "selecting a subset of the most relevant features, these techniques can also improve the model's predictive accuracy and \n",
    "reduce the risk of spurious correlations"
   ]
  },
  {
   "cell_type": "markdown",
   "id": "39e32fd8-0ee3-4bef-abe7-c6ba0d4133a8",
   "metadata": {},
   "source": [
    "Q6) How can you handle imbalanced datasets in logistic regression? What are some strategies for dealing\n",
    "with class imbalance?"
   ]
  },
  {
   "cell_type": "code",
   "execution_count": null,
   "id": "908bb4be-0121-4f2e-8213-530e51a7ee0e",
   "metadata": {},
   "outputs": [],
   "source": [
    "Imbalanced datasets occur when one class of the target variable is much more prevalent than the other. This can cause \n",
    "logistic regression models to be biased towards the majority class, leading to poor performance for the minority class.\n",
    "Here are some strategies for handling imbalanced datasets in logistic regression:\n",
    "    \n",
    "1.Resampling: This involves either oversampling the minority class (i.e., creating new synthetic samples from the minority\n",
    "class) or undersampling the majority class (i.e., randomly removing samples from the majority class). The goal is to\n",
    "balance the class distribution in the dataset. However, oversampling can lead to overfitting, and undersampling can result\n",
    "in loss of information.\n",
    "\n",
    "2.Cost-sensitive learning: This involves assigning different misclassification costs to each class, such that \n",
    "misclassifying the minority class is penalized more heavily than misclassifying the majority class. This can be achieved\n",
    "by adjusting the threshold for class prediction, or by modifying the logistic regression objective function to include the\n",
    "cost matrix.\n",
    "\n",
    "3.Class weighting: This involves assigning a higher weight to the minority class samples during model training. This can\n",
    "be achieved by setting the class_weight parameter in scikit-learn's LogisticRegression class to 'balanced', which\n",
    "automatically adjusts the weights based on the class distribution.\n",
    "\n",
    "4.Ensemble methods: This involves combining multiple logistic regression models trained on different subsets of the\n",
    "dataset or with different hyperparameters. This can include bagging, boosting, or stacking methods, which can help to \n",
    "reduce the bias towards the majority class and improve the overall performance.\n",
    "\n",
    "5.Anomaly detection: This involves treating the minority class as an anomaly or outlier detection problem, and using \n",
    "techniques such as one-class SVM or isolation forest to identify and classify the minority class samples.\n",
    "\n",
    "These strategies can help to address the problem of class imbalance in logistic regression models, and improve the\n",
    "performance for the minority class. However, the choice of strategy may depend on the specific characteristics of the\n",
    "dataset and the goals of the analysis. It is important to evaluate the performance of the model using appropriate metrics\n",
    "such as precision, recall, F1-score, or ROC AUC, and to perform cross-validation to assess the generalization performance\n",
    "of the model."
   ]
  },
  {
   "cell_type": "markdown",
   "id": "ac7f9795-9cfa-4669-ac55-a7092559b3e4",
   "metadata": {},
   "source": [
    "Q7) Can you discuss some common issues and challenges that may arise when implementing logistic\n",
    "regression, and how they can be addressed? For example, what can be done if there is multicollinearity\n",
    "among the independent variables?"
   ]
  },
  {
   "cell_type": "code",
   "execution_count": null,
   "id": "36292a02-2fe0-4d2c-bbf2-7f2bfe7485d9",
   "metadata": {},
   "outputs": [],
   "source": [
    "Logistic regression is a powerful and widely used method for modeling binary or categorical outcomes. However, there are\n",
    "several issues and challenges that can arise when implementing logistic regression. Here are some common issues and\n",
    "possible solutions:\n",
    "    \n",
    "1.Multicollinearity: This occurs when two or more independent variables are highly correlated with each other, which can \n",
    "cause unstable or biased coefficient estimates. To address multicollinearity, one option is to remove one of the\n",
    "correlated variables from the model. Alternatively, techniques such as principal component analysis (PCA) or ridge\n",
    "regression can be used to reduce the dimensionality of the data and account for the collinearity.\n",
    "\n",
    "2.Overfitting: This occurs when the model is too complex and captures noise or random fluctuations in the data, leading to\n",
    "poor generalization performance. To address overfitting, techniques such as regularization, cross-validation, or early\n",
    "stopping can be used to reduce the complexity of the model and improve its generalization performance.\n",
    "\n",
    "3.Imbalanced data: This occurs when the two classes in the binary outcome variable are not equally represented in the \n",
    "dataset. To address imbalanced data, techniques such as resampling, cost-sensitive learning, or class weighting can be\n",
    "used to balance the class distribution and improve the performance for the minority class.\n",
    "\n",
    "4.Outliers: This occurs when some observations in the dataset have extreme values or deviate significantly from the rest \n",
    "of the data. To address outliers, techniques such as robust regression, trimming, or Winsorization can be used to reduce\n",
    "the influence of the outliers on the model estimation.\n",
    "\n",
    "5.Missing data: This occurs when some observations have missing values for some of the variables in the dataset. To \n",
    "address missing data, techniques such as imputation, complete case analysis, or multiple imputation can be used to \n",
    "estimate the missing values and retain as much information as possible from the incomplete data.\n",
    "\n",
    "Overall, logistic regression can be a powerful tool for modeling binary outcomes, but it requires careful attention to the\n",
    "potential issues and challenges that can arise during implementation. By addressing these issues using appropriate\n",
    "techniques and strategies, we can improve the performance and interpretability of logistic regression models."
   ]
  }
 ],
 "metadata": {
  "kernelspec": {
   "display_name": "Python 3 (ipykernel)",
   "language": "python",
   "name": "python3"
  },
  "language_info": {
   "codemirror_mode": {
    "name": "ipython",
    "version": 3
   },
   "file_extension": ".py",
   "mimetype": "text/x-python",
   "name": "python",
   "nbconvert_exporter": "python",
   "pygments_lexer": "ipython3",
   "version": "3.10.8"
  }
 },
 "nbformat": 4,
 "nbformat_minor": 5
}
